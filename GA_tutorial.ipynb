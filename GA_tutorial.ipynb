{
 "cells": [
  {
   "cell_type": "markdown",
   "id": "6330998e",
   "metadata": {},
   "source": [
    "## 초기 모집단"
   ]
  },
  {
   "cell_type": "code",
   "execution_count": 1,
   "id": "91eca0d7",
   "metadata": {
    "ExecuteTime": {
     "end_time": "2021-11-24T06:12:24.296526Z",
     "start_time": "2021-11-24T06:12:24.278566Z"
    }
   },
   "outputs": [
    {
     "name": "stdout",
     "output_type": "stream",
     "text": [
      "[[8, 3, 1, 7, 2, 4, 9, 5, 6],\n",
      " [3, 6, 7, 8, 4, 1, 5, 9, 2],\n",
      " [4, 3, 7, 5, 6, 2, 1, 9, 8],\n",
      " [8, 7, 3, 2, 4, 1, 5, 9, 6],\n",
      " [1, 4, 8, 7, 2, 9, 5, 3, 6]]\n"
     ]
    }
   ],
   "source": [
    "import random\n",
    "from pprint import pprint\n",
    "# TSP (num_node = 9)   (9개 = 유전체의 개수)\n",
    "sample_chrm = list(range(1, 10))  # feasible solution\n",
    "\n",
    "init_pop = []\n",
    "pop_size = 5   # 5개의 개체(염색체)\n",
    "\n",
    "for i in range(pop_size):\n",
    "    new_chrm = sample_chrm.copy()\n",
    "    random.shuffle(new_chrm)\n",
    "    init_pop.append(new_chrm)\n",
    "pprint(init_pop)"
   ]
  },
  {
   "cell_type": "markdown",
   "id": "5258e317",
   "metadata": {},
   "source": [
    "## 적응도"
   ]
  },
  {
   "cell_type": "code",
   "execution_count": 2,
   "id": "77de7742",
   "metadata": {
    "ExecuteTime": {
     "end_time": "2021-11-24T06:12:25.036555Z",
     "start_time": "2021-11-24T06:12:25.030568Z"
    }
   },
   "outputs": [],
   "source": [
    "cost_mat = [[0, 0, 0, 0, 0, 0, 0, 0, 0, 0],\n",
    "            [0, 0, 1, 5, 6, 9, 2, 3, 7, 8],\n",
    "            [0, 1, 0, 8, 6, 2, 4, 7, 9, 5],\n",
    "            [0, 5, 8, 0, 3, 2, 7, 6, 8, 9],\n",
    "            [0, 6, 6, 3, 0, 9, 7, 4, 1, 5],\n",
    "            [0, 9, 2, 2, 9, 0, 1, 4, 7, 3],\n",
    "            [0, 2, 4, 7, 7, 1, 0, 7, 4, 1],\n",
    "            [0, 3, 7, 6, 4, 4, 7, 0, 8, 3],\n",
    "            [0, 7, 9, 8, 1, 7, 4, 8, 0, 1],\n",
    "            [0, 8, 5, 9, 5, 3, 1, 3, 1, 0]]"
   ]
  },
  {
   "cell_type": "code",
   "execution_count": 4,
   "id": "cd0ce642",
   "metadata": {
    "ExecuteTime": {
     "end_time": "2021-11-24T06:12:29.827157Z",
     "start_time": "2021-11-24T06:12:29.814193Z"
    }
   },
   "outputs": [
    {
     "name": "stdout",
     "output_type": "stream",
     "text": [
      "44\n"
     ]
    }
   ],
   "source": [
    "# example\n",
    "chrm = [4, 1, 5, 6, 9, 2, 3, 7, 8]\n",
    "\n",
    "cost = 0\n",
    "last = chrm[0]\n",
    "for current in chrm:\n",
    "    cost += cost_mat[last][current]\n",
    "    last = current\n",
    "print(cost)"
   ]
  },
  {
   "cell_type": "markdown",
   "id": "8eefc1e0",
   "metadata": {},
   "source": [
    "## 선별"
   ]
  },
  {
   "cell_type": "code",
   "execution_count": 6,
   "id": "afd9f91f",
   "metadata": {
    "ExecuteTime": {
     "end_time": "2021-11-24T06:12:36.624946Z",
     "start_time": "2021-11-24T06:12:36.605997Z"
    }
   },
   "outputs": [
    {
     "name": "stdout",
     "output_type": "stream",
     "text": [
      "[0.1937984496124031, 0.4108527131782946, 0.7441860465116279, 0.8449612403100775, 1.0]\n"
     ]
    }
   ],
   "source": [
    "# example\n",
    "fit_ls = [random.randint(10, 50) for _ in range(5)]\n",
    "fit_sum = sum(fit_ls)\n",
    "prob_ls = [x / fit_sum for x in fit_ls]\n",
    "\n",
    "cum_value = 0\n",
    "cum_prob_ls = []\n",
    "for prob in prob_ls:\n",
    "    cum_prob_ls.append(cum_value + prob)\n",
    "    cum_value += prob\n",
    "cum_prob_ls[-1] = 1.0\n",
    "\n",
    "print(cum_prob_ls)"
   ]
  },
  {
   "cell_type": "code",
   "execution_count": 7,
   "id": "db556eff",
   "metadata": {
    "ExecuteTime": {
     "end_time": "2021-11-24T06:12:38.708544Z",
     "start_time": "2021-11-24T06:12:38.701559Z"
    }
   },
   "outputs": [
    {
     "name": "stdout",
     "output_type": "stream",
     "text": [
      "[1, 1, 1, 3, 0, 1, 1, 2, 2, 0, 2, 4, 4, 2, 4, 0, 2, 1, 0, 2, 1, 2, 1, 1, 2, 3, 1, 2, 2, 0, 1, 2, 1, 0, 3, 0, 0, 2, 0, 0, 3, 0, 2, 2, 1, 4, 1, 0, 2, 2, 1, 0, 1, 2, 2, 2, 0, 0, 1, 3, 2, 2, 2, 4, 0, 0, 1, 2, 3, 1, 0, 0, 3, 3, 1, 2, 3, 1, 2, 1, 0, 0, 2, 0, 3, 1, 1, 1, 2, 2, 0, 4, 4, 1, 1, 2, 4, 4, 2, 1]\n"
     ]
    }
   ],
   "source": [
    "import random\n",
    "\n",
    "selected = []\n",
    "size = 100\n",
    "\n",
    "for _ in range(size):\n",
    "    rn = random.random()\n",
    "    for j,cum_prob in enumerate(cum_prob_ls):\n",
    "        if rn <= cum_prob:\n",
    "            selected.append(j)\n",
    "            break\n",
    "print(selected)"
   ]
  },
  {
   "cell_type": "markdown",
   "id": "182b5095",
   "metadata": {},
   "source": [
    "## 교차"
   ]
  },
  {
   "cell_type": "markdown",
   "id": "0695c15c",
   "metadata": {},
   "source": [
    "### 일점 교차"
   ]
  },
  {
   "cell_type": "code",
   "execution_count": 8,
   "id": "03f4df41",
   "metadata": {
    "ExecuteTime": {
     "end_time": "2021-11-24T06:12:40.560208Z",
     "start_time": "2021-11-24T06:12:40.550883Z"
    }
   },
   "outputs": [],
   "source": [
    "parent1 = [ 1, 0, 1, 1, 0, 1, 1, 1 ]\n",
    "parent2 = [ 0, 1, 0, 0, 1, 0, 1, 1 ]\n",
    "\n",
    "pt = 3\n",
    "\n",
    "offspring1 = parent1[:pt] + parent2[pt:]\n",
    "offspring2 = parent2[:pt] + parent1[pt:] "
   ]
  },
  {
   "cell_type": "markdown",
   "id": "1e9375d7",
   "metadata": {},
   "source": [
    "### 이점 교차"
   ]
  },
  {
   "cell_type": "code",
   "execution_count": 9,
   "id": "e01519a7",
   "metadata": {
    "ExecuteTime": {
     "end_time": "2021-11-24T06:12:41.183300Z",
     "start_time": "2021-11-24T06:12:41.166305Z"
    }
   },
   "outputs": [],
   "source": [
    "pt1 = 2 \n",
    "pt2 = 5 \n",
    "offspring1 = parent1[:pt1] + parent2[pt1:pt2] + parent1[pt2:]\n",
    "offspring2 = parent2[:pt1] + parent1[pt1:pt2] + parent2[pt2:] "
   ]
  },
  {
   "cell_type": "markdown",
   "id": "c58fe945",
   "metadata": {},
   "source": [
    "### 순서교차 (ex. TSP)"
   ]
  },
  {
   "cell_type": "code",
   "execution_count": 10,
   "id": "4664b62d",
   "metadata": {
    "ExecuteTime": {
     "end_time": "2021-11-24T06:12:41.693599Z",
     "start_time": "2021-11-24T06:12:41.686617Z"
    }
   },
   "outputs": [],
   "source": [
    "parent1 = [4, 1, 5, 6, 9, 2, 3, 7, 8]\n",
    "parent2 = [3, 1, 8, 6, 2, 4, 7, 9, 5]\n",
    "\n",
    "pt1 = 2 \n",
    "pt2 = 5 \n",
    "\n",
    "latter_length = len(parent1) - pt2\n",
    "\n",
    "prt1_mid = parent1[pt1:pt2]\n",
    "prt2_mid = parent2[pt1:pt2]"
   ]
  },
  {
   "cell_type": "code",
   "execution_count": 11,
   "id": "40de9e8a",
   "metadata": {
    "ExecuteTime": {
     "end_time": "2021-11-24T06:12:41.927924Z",
     "start_time": "2021-11-24T06:12:41.916951Z"
    }
   },
   "outputs": [
    {
     "data": {
      "text/plain": [
       "([5, 6, 9], [8, 6, 2])"
      ]
     },
     "execution_count": 11,
     "metadata": {},
     "output_type": "execute_result"
    }
   ],
   "source": [
    "prt1_mid, prt2_mid"
   ]
  },
  {
   "cell_type": "code",
   "execution_count": 12,
   "id": "d69b7fa7",
   "metadata": {
    "ExecuteTime": {
     "end_time": "2021-11-24T06:12:42.301738Z",
     "start_time": "2021-11-24T06:12:42.285769Z"
    }
   },
   "outputs": [
    {
     "data": {
      "text/plain": [
       "([2, 3, 7, 8, 4, 1, 5, 6, 9], [4, 7, 9, 5, 3, 1, 8, 6, 2])"
      ]
     },
     "execution_count": 12,
     "metadata": {},
     "output_type": "execute_result"
    }
   ],
   "source": [
    "prt1_reordered = parent1[pt2:] + parent1[:pt2]\n",
    "prt2_reordered = parent2[pt2:] + parent2[:pt2]\n",
    "\n",
    "prt1_reordered, prt2_reordered"
   ]
  },
  {
   "cell_type": "code",
   "execution_count": 13,
   "id": "ae8c3a0c",
   "metadata": {
    "ExecuteTime": {
     "end_time": "2021-11-24T06:12:42.581038Z",
     "start_time": "2021-11-24T06:12:42.573974Z"
    }
   },
   "outputs": [
    {
     "name": "stdout",
     "output_type": "stream",
     "text": [
      "[3, 7, 4, 1, 5, 9]\n",
      "[4, 7, 3, 1, 8, 2]\n"
     ]
    }
   ],
   "source": [
    "prt1_reord_filtered = list( filter( lambda x: x not in prt2_mid, prt1_reordered ))\n",
    "prt2_reord_filtered = list(filter( lambda x: x not in prt1_mid, prt2_reordered ))\n",
    "\n",
    "print(prt1_reord_filtered)\n",
    "print(prt2_reord_filtered)"
   ]
  },
  {
   "cell_type": "code",
   "execution_count": 14,
   "id": "fb03aa8b",
   "metadata": {
    "ExecuteTime": {
     "end_time": "2021-11-24T06:12:42.906927Z",
     "start_time": "2021-11-24T06:12:42.893487Z"
    }
   },
   "outputs": [
    {
     "name": "stdout",
     "output_type": "stream",
     "text": [
      "[8, 2, 5, 6, 9, 4, 7, 3, 1]\n",
      "[5, 9, 8, 6, 2, 3, 7, 4, 1]\n"
     ]
    }
   ],
   "source": [
    "offspring1 = prt2_reord_filtered[-pt1:] + prt1_mid + prt2_reord_filtered[:latter_length]\n",
    "offspring2 = prt1_reord_filtered[-pt1:] + prt2_mid + prt1_reord_filtered[:latter_length] \n",
    "\n",
    "print(offspring1)\n",
    "print(offspring2)"
   ]
  },
  {
   "cell_type": "markdown",
   "id": "2cf2a07b",
   "metadata": {},
   "source": [
    "## 돌연변이"
   ]
  },
  {
   "cell_type": "markdown",
   "id": "3bc0636f",
   "metadata": {},
   "source": [
    "### 삽입"
   ]
  },
  {
   "cell_type": "code",
   "execution_count": 15,
   "id": "f6d57aa2",
   "metadata": {
    "ExecuteTime": {
     "end_time": "2021-11-24T06:12:43.778565Z",
     "start_time": "2021-11-24T06:12:43.766458Z"
    }
   },
   "outputs": [],
   "source": [
    "import random\n",
    "\n",
    "chrm = [4,1,5,6,9,2,3,7,8]\n",
    "while True:\n",
    "    element_position = random.randint(0, len(chrm)-1)\n",
    "    insert_position = random.randint(0, len(chrm)-2)\n",
    "    if element_position != insert_position:\n",
    "        break\n",
    "\n",
    "element_value = chrm[element_position]\n",
    "\n",
    "del chrm[element_position]\n",
    "\n",
    "chrm.insert(insert_position, element_value)"
   ]
  },
  {
   "cell_type": "code",
   "execution_count": 16,
   "id": "d85d8333",
   "metadata": {
    "ExecuteTime": {
     "end_time": "2021-11-24T06:12:44.118351Z",
     "start_time": "2021-11-24T06:12:44.101447Z"
    }
   },
   "outputs": [
    {
     "data": {
      "text/plain": [
       "(7, 0)"
      ]
     },
     "execution_count": 16,
     "metadata": {},
     "output_type": "execute_result"
    }
   ],
   "source": [
    "element_position, insert_position"
   ]
  },
  {
   "cell_type": "markdown",
   "id": "2bcb21a1",
   "metadata": {},
   "source": [
    "### 교환"
   ]
  },
  {
   "cell_type": "code",
   "execution_count": 17,
   "id": "eae37e19",
   "metadata": {
    "ExecuteTime": {
     "end_time": "2021-11-24T06:12:44.629897Z",
     "start_time": "2021-11-24T06:12:44.621811Z"
    }
   },
   "outputs": [],
   "source": [
    "import random\n",
    "\n",
    "chrm = [4,1,5,6,9,2,3,7,8]\n",
    "\n",
    "while True:\n",
    "    position1 = random.randint(0, len(chrm)-1)\n",
    "    position2 = random.randint(0, len(chrm)-1)\n",
    "    if position1 != position2:\n",
    "        break\n",
    "\n",
    "chrm[position1], chrm[position2] = chrm[position2], chrm[position1]"
   ]
  }
 ],
 "metadata": {
  "hide_input": false,
  "kernelspec": {
   "display_name": "Python 3 (ipykernel)",
   "language": "python",
   "name": "python3"
  },
  "language_info": {
   "codemirror_mode": {
    "name": "ipython",
    "version": 3
   },
   "file_extension": ".py",
   "mimetype": "text/x-python",
   "name": "python",
   "nbconvert_exporter": "python",
   "pygments_lexer": "ipython3",
   "version": "3.8.8"
  },
  "toc": {
   "base_numbering": 1,
   "nav_menu": {},
   "number_sections": true,
   "sideBar": true,
   "skip_h1_title": false,
   "title_cell": "Table of Contents",
   "title_sidebar": "Contents",
   "toc_cell": false,
   "toc_position": {},
   "toc_section_display": true,
   "toc_window_display": false
  },
  "varInspector": {
   "cols": {
    "lenName": 16,
    "lenType": 16,
    "lenVar": 40
   },
   "kernels_config": {
    "python": {
     "delete_cmd_postfix": "",
     "delete_cmd_prefix": "del ",
     "library": "var_list.py",
     "varRefreshCmd": "print(var_dic_list())"
    },
    "r": {
     "delete_cmd_postfix": ") ",
     "delete_cmd_prefix": "rm(",
     "library": "var_list.r",
     "varRefreshCmd": "cat(var_dic_list()) "
    }
   },
   "types_to_exclude": [
    "module",
    "function",
    "builtin_function_or_method",
    "instance",
    "_Feature"
   ],
   "window_display": false
  }
 },
 "nbformat": 4,
 "nbformat_minor": 5
}
